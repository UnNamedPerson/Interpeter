{
 "cells": [
  {
   "cell_type": "code",
   "execution_count": 1,
   "metadata": {},
   "outputs": [],
   "source": [
    "\n",
    "# token class to define the token, which is an character that is read from the input and has a type and value\n",
    "\n",
    "class token():\n",
    "    def __init__(self, value, type):\n",
    "        self.value = value # value is any thiscase any number form from zero to nine \n",
    "        self.type = type # type here can be a number (Integer), operation (plus sign in the case of our class), or EOF (end of file)."
   ]
  },
  {
   "cell_type": "code",
   "execution_count": 2,
   "metadata": {},
   "outputs": [],
   "source": [
    "# a scanner class to read each character and analyze it. the class identifies whehter or the token is\n",
    "# following the right rules of the add experssion. \n",
    "import math\n",
    "class scanner():\n",
    "    def __init__(self, text):\n",
    "        self.text = text\n",
    "        self.currentToken = None\n",
    "        self.pos = 0\n",
    "        \n",
    "#   this function gets the next token in the text that is passed by the user.\n",
    "    def getNextToken(self):\n",
    "        \n",
    "        if self.pos == len(self.text):\n",
    "            return token(None, \"EOF\")    \n",
    "        \n",
    "        currentChar = self.text[self.pos]\n",
    "#         intValue = \"\"\n",
    "#         if currentChar.isdigit():\n",
    "#         while self.pos < len(self.text):\n",
    "        if currentChar.isdigit():\n",
    "#             intValue += currentChar\n",
    "            self.pos += 1\n",
    "#             currentChar = self.text[self.pos]\n",
    "#             else:\n",
    "#                 break\n",
    "#         print(int(intValue))\n",
    "            return token(int(currentChar), \"Integer\")\n",
    "        \n",
    "        elif currentChar == \"+\":\n",
    "            self.pos +=1\n",
    "            return token(currentChar, \"Plus\")\n",
    "        \n",
    "        \n",
    "    def convertToInt(self, intList):\n",
    "        return sum(digit * 10 ** i for i, digit in enumerate(intList[::-1]))\n",
    "        \n",
    "    #    this function is to check if the current token matches the token's type in the right order.\n",
    "    #    If it is in the right order, returns the current token, if not raise error.\n",
    "    def consumeToken(self,currentTokenType, correctType):\n",
    "        if currentTokenType == correctType:\n",
    "            return self.currentToken\n",
    "        else: \n",
    "            raise Exception(\"error while parsing the input\")\n",
    "                    \n",
    "            \n",
    "\n",
    "#   this function checks if the passed text stisfies the required format.        \n",
    "    def addExpr(self):\n",
    "        self.currentToken = self.getNextToken()\n",
    "        \n",
    "        leftInt = []\n",
    "        rightInt = []\n",
    "#         rightInt = ''\n",
    "#         leftInt = 0\n",
    "        for i in range(0, 100000):\n",
    "            if isinstance(self.currentToken.value, int):\n",
    "                self.consumeToken(self.currentToken.type, \"Integer\")\n",
    "#                 leftInt += self.currentToken.value * 10 ** i\n",
    "                leftInt.append(self.currentToken.value)\n",
    "                self.currentToken = self.getNextToken()\n",
    "        leftInt = self.convertToInt(leftInt)\n",
    "#         print(self.currentToken.value)\n",
    "        \n",
    "        self.consumeToken(self.currentToken.type, \"Plus\")\n",
    "        self.currentToken = self.getNextToken()\n",
    "        \n",
    "        for i in range(0, 100000):\n",
    "            if isinstance(self.currentToken.value, int):\n",
    "                self.consumeToken(self.currentToken.type, \"Integer\")\n",
    "#                 leftInt += self.currentToken.value * 10 ** i\n",
    "                rightInt.append(self.currentToken.value)\n",
    "                self.currentToken = self.getNextToken()\n",
    "        rightInt = self.convertToInt(rightInt)\n",
    "#         self.consumeToken(self.currentToken.type, \"Integer\")\n",
    "#         rightInt = int(self.currentToken.value)\n",
    "#         self.currentToken = self.getNextToken()\n",
    "        \n",
    "        return leftInt + rightInt"
   ]
  },
  {
   "cell_type": "code",
   "execution_count": null,
   "metadata": {},
   "outputs": [
    {
     "name": "stdout",
     "output_type": "stream",
     "text": [
      "input>12+12\n",
      "24\n"
     ]
    }
   ],
   "source": [
    "def main():\n",
    "    while True:\n",
    "        try:\n",
    "            text = input(\"input>\")\n",
    "        except EOFError:\n",
    "            break\n",
    "        if not text:\n",
    "            continue\n",
    "        scan = scanner(text)\n",
    "        print(scan.addExpr())\n",
    "\n",
    "if __name__ == '__main__':\n",
    "    main()"
   ]
  },
  {
   "cell_type": "code",
   "execution_count": null,
   "metadata": {},
   "outputs": [],
   "source": []
  }
 ],
 "metadata": {
  "kernelspec": {
   "display_name": "Python 3",
   "language": "python",
   "name": "python3"
  },
  "language_info": {
   "codemirror_mode": {
    "name": "ipython",
    "version": 3
   },
   "file_extension": ".py",
   "mimetype": "text/x-python",
   "name": "python",
   "nbconvert_exporter": "python",
   "pygments_lexer": "ipython3",
   "version": "3.6.7"
  }
 },
 "nbformat": 4,
 "nbformat_minor": 2
}
